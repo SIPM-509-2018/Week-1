{
 "cells": [
  {
   "cell_type": "markdown",
   "metadata": {},
   "source": [
    "# Data Exploration\n",
    "\n",
    "Data from https://web.stanford.edu/~hastie/ElemStatLearn/data.html\n",
    "```\n",
    "Relative spinal bone mineral density measurements on 261 North\n",
    "American adolescents.  Each value is the difference in spnbmd\n",
    "taken on two consecutive visits, divided by the average. The age is\n",
    "the average age over the two visits.\n",
    "\n",
    "Variables:\n",
    "\n",
    "idnum:\t\tidentifies the child, and hence the repeat measurements\n",
    "age:\t\taverage age of child when measurements were taken\n",
    "gender:\t\tmale or female\n",
    "spnbmd:\t\tRelative Spinal bone mineral density measurement\n",
    "\n",
    "If you use these data in a publication, please acknowledge the\n",
    "original source:\n",
    "\n",
    "Bachrach LK, Hastie T, Wang M-C, Narasimhan B, Marcus R. Bone Mineral\n",
    "Acquisition in Healthy Asian, Hispanic, Black and Caucasian Youth. A\n",
    "Longitudinal Study. J Clin Endocrinol Metab (1999) 84, 4702-12.\n",
    "```"
   ]
  },
  {
   "cell_type": "code",
   "execution_count": 8,
   "metadata": {},
   "outputs": [],
   "source": [
    "import pandas as pd\n",
    "from matplotlib import pyplot as plt\n",
    "import numpy as np"
   ]
  },
  {
   "cell_type": "code",
   "execution_count": 4,
   "metadata": {},
   "outputs": [],
   "source": [
    "#this is how you load the data\n",
    "df = pd.read_csv('data/bone_density/spnbmd.csv')"
   ]
  },
  {
   "cell_type": "code",
   "execution_count": 31,
   "metadata": {
    "scrolled": true
   },
   "outputs": [
    {
     "data": {
      "text/html": [
       "<div>\n",
       "<style scoped>\n",
       "    .dataframe tbody tr th:only-of-type {\n",
       "        vertical-align: middle;\n",
       "    }\n",
       "\n",
       "    .dataframe tbody tr th {\n",
       "        vertical-align: top;\n",
       "    }\n",
       "\n",
       "    .dataframe thead th {\n",
       "        text-align: right;\n",
       "    }\n",
       "</style>\n",
       "<table border=\"1\" class=\"dataframe\">\n",
       "  <thead>\n",
       "    <tr style=\"text-align: right;\">\n",
       "      <th></th>\n",
       "      <th>idnum</th>\n",
       "      <th>ethnic</th>\n",
       "      <th>age</th>\n",
       "      <th>sex</th>\n",
       "      <th>spnbmd</th>\n",
       "    </tr>\n",
       "  </thead>\n",
       "  <tbody>\n",
       "    <tr>\n",
       "      <th>0</th>\n",
       "      <td>1</td>\n",
       "      <td>White</td>\n",
       "      <td>11.2</td>\n",
       "      <td>mal</td>\n",
       "      <td>0.719</td>\n",
       "    </tr>\n",
       "    <tr>\n",
       "      <th>1</th>\n",
       "      <td>1</td>\n",
       "      <td>White</td>\n",
       "      <td>12.2</td>\n",
       "      <td>mal</td>\n",
       "      <td>0.732</td>\n",
       "    </tr>\n",
       "    <tr>\n",
       "      <th>2</th>\n",
       "      <td>1</td>\n",
       "      <td>White</td>\n",
       "      <td>13.2</td>\n",
       "      <td>mal</td>\n",
       "      <td>0.776</td>\n",
       "    </tr>\n",
       "    <tr>\n",
       "      <th>3</th>\n",
       "      <td>1</td>\n",
       "      <td>White</td>\n",
       "      <td>14.3</td>\n",
       "      <td>mal</td>\n",
       "      <td>0.781</td>\n",
       "    </tr>\n",
       "    <tr>\n",
       "      <th>4</th>\n",
       "      <td>2</td>\n",
       "      <td>White</td>\n",
       "      <td>12.7</td>\n",
       "      <td>mal</td>\n",
       "      <td>0.620</td>\n",
       "    </tr>\n",
       "  </tbody>\n",
       "</table>\n",
       "</div>"
      ],
      "text/plain": [
       "   idnum ethnic   age  sex  spnbmd\n",
       "0      1  White  11.2  mal   0.719\n",
       "1      1  White  12.2  mal   0.732\n",
       "2      1  White  13.2  mal   0.776\n",
       "3      1  White  14.3  mal   0.781\n",
       "4      2  White  12.7  mal   0.620"
      ]
     },
     "execution_count": 31,
     "metadata": {},
     "output_type": "execute_result"
    }
   ],
   "source": [
    "df.head()"
   ]
  },
  {
   "cell_type": "markdown",
   "metadata": {},
   "source": [
    "## Working with Dataframe"
   ]
  },
  {
   "cell_type": "code",
   "execution_count": 30,
   "metadata": {},
   "outputs": [
    {
     "name": "stdout",
     "output_type": "stream",
     "text": [
      "mal\n",
      "mal\n"
     ]
    }
   ],
   "source": [
    "#access data frame\n",
    "print(df.sex[3])\n",
    "print(df['sex'][3])\n"
   ]
  },
  {
   "cell_type": "code",
   "execution_count": 13,
   "metadata": {},
   "outputs": [
    {
     "data": {
      "text/plain": [
       "fem    547\n",
       "mal    456\n",
       "Name: sex, dtype: int64"
      ]
     },
     "execution_count": 13,
     "metadata": {},
     "output_type": "execute_result"
    }
   ],
   "source": [
    "#count\n",
    "df.sex.value_counts()"
   ]
  },
  {
   "cell_type": "code",
   "execution_count": 27,
   "metadata": {},
   "outputs": [
    {
     "data": {
      "text/html": [
       "<div>\n",
       "<style scoped>\n",
       "    .dataframe tbody tr th:only-of-type {\n",
       "        vertical-align: middle;\n",
       "    }\n",
       "\n",
       "    .dataframe tbody tr th {\n",
       "        vertical-align: top;\n",
       "    }\n",
       "\n",
       "    .dataframe thead th {\n",
       "        text-align: right;\n",
       "    }\n",
       "</style>\n",
       "<table border=\"1\" class=\"dataframe\">\n",
       "  <thead>\n",
       "    <tr style=\"text-align: right;\">\n",
       "      <th></th>\n",
       "      <th>idnum</th>\n",
       "      <th>age</th>\n",
       "      <th>spnbmd</th>\n",
       "    </tr>\n",
       "  </thead>\n",
       "  <tbody>\n",
       "    <tr>\n",
       "      <th>count</th>\n",
       "      <td>1003.000000</td>\n",
       "      <td>1003.000000</td>\n",
       "      <td>1003.000000</td>\n",
       "    </tr>\n",
       "    <tr>\n",
       "      <th>mean</th>\n",
       "      <td>189.852443</td>\n",
       "      <td>16.319043</td>\n",
       "      <td>0.947647</td>\n",
       "    </tr>\n",
       "    <tr>\n",
       "      <th>std</th>\n",
       "      <td>120.655074</td>\n",
       "      <td>4.353823</td>\n",
       "      <td>0.183963</td>\n",
       "    </tr>\n",
       "    <tr>\n",
       "      <th>min</th>\n",
       "      <td>1.000000</td>\n",
       "      <td>8.800000</td>\n",
       "      <td>0.536000</td>\n",
       "    </tr>\n",
       "    <tr>\n",
       "      <th>25%</th>\n",
       "      <td>84.500000</td>\n",
       "      <td>12.800000</td>\n",
       "      <td>0.799500</td>\n",
       "    </tr>\n",
       "    <tr>\n",
       "      <th>50%</th>\n",
       "      <td>181.000000</td>\n",
       "      <td>15.700000</td>\n",
       "      <td>0.965000</td>\n",
       "    </tr>\n",
       "    <tr>\n",
       "      <th>75%</th>\n",
       "      <td>287.500000</td>\n",
       "      <td>19.450000</td>\n",
       "      <td>1.070500</td>\n",
       "    </tr>\n",
       "    <tr>\n",
       "      <th>max</th>\n",
       "      <td>429.000000</td>\n",
       "      <td>26.200000</td>\n",
       "      <td>1.443000</td>\n",
       "    </tr>\n",
       "  </tbody>\n",
       "</table>\n",
       "</div>"
      ],
      "text/plain": [
       "             idnum          age       spnbmd\n",
       "count  1003.000000  1003.000000  1003.000000\n",
       "mean    189.852443    16.319043     0.947647\n",
       "std     120.655074     4.353823     0.183963\n",
       "min       1.000000     8.800000     0.536000\n",
       "25%      84.500000    12.800000     0.799500\n",
       "50%     181.000000    15.700000     0.965000\n",
       "75%     287.500000    19.450000     1.070500\n",
       "max     429.000000    26.200000     1.443000"
      ]
     },
     "execution_count": 27,
     "metadata": {},
     "output_type": "execute_result"
    }
   ],
   "source": [
    "#describe\n",
    "df.describe()"
   ]
  },
  {
   "cell_type": "code",
   "execution_count": 15,
   "metadata": {},
   "outputs": [
    {
     "name": "stdout",
     "output_type": "stream",
     "text": [
      "16.319042871385843\n",
      "4.3538230018792845\n"
     ]
    }
   ],
   "source": [
    "#some statistics is available too\n",
    "print(df.age.mean())\n",
    "print(df.age.std())"
   ]
  },
  {
   "cell_type": "code",
   "execution_count": 32,
   "metadata": {},
   "outputs": [
    {
     "data": {
      "text/html": [
       "<div>\n",
       "<style scoped>\n",
       "    .dataframe tbody tr th:only-of-type {\n",
       "        vertical-align: middle;\n",
       "    }\n",
       "\n",
       "    .dataframe tbody tr th {\n",
       "        vertical-align: top;\n",
       "    }\n",
       "\n",
       "    .dataframe thead th {\n",
       "        text-align: right;\n",
       "    }\n",
       "</style>\n",
       "<table border=\"1\" class=\"dataframe\">\n",
       "  <thead>\n",
       "    <tr style=\"text-align: right;\">\n",
       "      <th></th>\n",
       "      <th>idnum</th>\n",
       "      <th>ethnic</th>\n",
       "      <th>age</th>\n",
       "      <th>sex</th>\n",
       "      <th>spnbmd</th>\n",
       "    </tr>\n",
       "  </thead>\n",
       "  <tbody>\n",
       "    <tr>\n",
       "      <th>408</th>\n",
       "      <td>139</td>\n",
       "      <td>Black</td>\n",
       "      <td>15.8</td>\n",
       "      <td>mal</td>\n",
       "      <td>0.963</td>\n",
       "    </tr>\n",
       "    <tr>\n",
       "      <th>421</th>\n",
       "      <td>146</td>\n",
       "      <td>Black</td>\n",
       "      <td>15.3</td>\n",
       "      <td>fem</td>\n",
       "      <td>1.092</td>\n",
       "    </tr>\n",
       "    <tr>\n",
       "      <th>422</th>\n",
       "      <td>146</td>\n",
       "      <td>Black</td>\n",
       "      <td>18.5</td>\n",
       "      <td>fem</td>\n",
       "      <td>1.109</td>\n",
       "    </tr>\n",
       "    <tr>\n",
       "      <th>423</th>\n",
       "      <td>146</td>\n",
       "      <td>Black</td>\n",
       "      <td>19.4</td>\n",
       "      <td>fem</td>\n",
       "      <td>1.126</td>\n",
       "    </tr>\n",
       "    <tr>\n",
       "      <th>424</th>\n",
       "      <td>147</td>\n",
       "      <td>Black</td>\n",
       "      <td>18.5</td>\n",
       "      <td>fem</td>\n",
       "      <td>1.133</td>\n",
       "    </tr>\n",
       "  </tbody>\n",
       "</table>\n",
       "</div>"
      ],
      "text/plain": [
       "     idnum ethnic   age  sex  spnbmd\n",
       "408    139  Black  15.8  mal   0.963\n",
       "421    146  Black  15.3  fem   1.092\n",
       "422    146  Black  18.5  fem   1.109\n",
       "423    146  Black  19.4  fem   1.126\n",
       "424    147  Black  18.5  fem   1.133"
      ]
     },
     "execution_count": 32,
     "metadata": {},
     "output_type": "execute_result"
    }
   ],
   "source": [
    "#boolean indexing\n",
    "df[df.ethnic=='Black'].head()"
   ]
  },
  {
   "cell_type": "code",
   "execution_count": 33,
   "metadata": {},
   "outputs": [
    {
     "data": {
      "text/html": [
       "<div>\n",
       "<style scoped>\n",
       "    .dataframe tbody tr th:only-of-type {\n",
       "        vertical-align: middle;\n",
       "    }\n",
       "\n",
       "    .dataframe tbody tr th {\n",
       "        vertical-align: top;\n",
       "    }\n",
       "\n",
       "    .dataframe thead th {\n",
       "        text-align: right;\n",
       "    }\n",
       "</style>\n",
       "<table border=\"1\" class=\"dataframe\">\n",
       "  <thead>\n",
       "    <tr style=\"text-align: right;\">\n",
       "      <th></th>\n",
       "      <th>idnum</th>\n",
       "      <th>ethnic</th>\n",
       "      <th>age</th>\n",
       "      <th>sex</th>\n",
       "      <th>spnbmd</th>\n",
       "    </tr>\n",
       "  </thead>\n",
       "  <tbody>\n",
       "    <tr>\n",
       "      <th>408</th>\n",
       "      <td>139</td>\n",
       "      <td>Black</td>\n",
       "      <td>15.8</td>\n",
       "      <td>mal</td>\n",
       "      <td>0.963</td>\n",
       "    </tr>\n",
       "    <tr>\n",
       "      <th>444</th>\n",
       "      <td>154</td>\n",
       "      <td>Black</td>\n",
       "      <td>23.4</td>\n",
       "      <td>mal</td>\n",
       "      <td>1.005</td>\n",
       "    </tr>\n",
       "    <tr>\n",
       "      <th>445</th>\n",
       "      <td>154</td>\n",
       "      <td>Black</td>\n",
       "      <td>24.6</td>\n",
       "      <td>mal</td>\n",
       "      <td>1.037</td>\n",
       "    </tr>\n",
       "    <tr>\n",
       "      <th>446</th>\n",
       "      <td>154</td>\n",
       "      <td>Black</td>\n",
       "      <td>25.8</td>\n",
       "      <td>mal</td>\n",
       "      <td>1.039</td>\n",
       "    </tr>\n",
       "    <tr>\n",
       "      <th>462</th>\n",
       "      <td>163</td>\n",
       "      <td>Black</td>\n",
       "      <td>21.9</td>\n",
       "      <td>mal</td>\n",
       "      <td>1.033</td>\n",
       "    </tr>\n",
       "  </tbody>\n",
       "</table>\n",
       "</div>"
      ],
      "text/plain": [
       "     idnum ethnic   age  sex  spnbmd\n",
       "408    139  Black  15.8  mal   0.963\n",
       "444    154  Black  23.4  mal   1.005\n",
       "445    154  Black  24.6  mal   1.037\n",
       "446    154  Black  25.8  mal   1.039\n",
       "462    163  Black  21.9  mal   1.033"
      ]
     },
     "execution_count": 33,
     "metadata": {},
     "output_type": "execute_result"
    }
   ],
   "source": [
    "#multiple conditions\n",
    "cond = (df.ethnic=='Black') & (df.sex=='mal')\n",
    "df[cond].head()"
   ]
  },
  {
   "cell_type": "code",
   "execution_count": 29,
   "metadata": {},
   "outputs": [
    {
     "name": "stdout",
     "output_type": "stream",
     "text": [
      "idnum         3\n",
      "ethnic    White\n",
      "age        12.9\n",
      "sex         mal\n",
      "spnbmd    0.618\n",
      "Name: 10, dtype: object\n",
      "mal\n"
     ]
    }
   ],
   "source": [
    "#access by row\n",
    "print(df.iloc[10])\n",
    "print(df.iloc[10].sex)"
   ]
  },
  {
   "cell_type": "code",
   "execution_count": 38,
   "metadata": {},
   "outputs": [
    {
     "name": "stdout",
     "output_type": "stream",
     "text": [
      "mal\n",
      "mal\n"
     ]
    }
   ],
   "source": [
    "#manual for loop\n",
    "for row in df.itertuples(name='bones'):\n",
    "    print(row.sex)\n",
    "    break\n",
    "    \n",
    "for index, row in df.iterrows():\n",
    "    print(row['sex'])\n",
    "    break"
   ]
  },
  {
   "cell_type": "code",
   "execution_count": 40,
   "metadata": {},
   "outputs": [
    {
     "data": {
      "text/plain": [
       "array([0.719, 0.732, 0.776, ..., 1.251, 0.635, 0.653])"
      ]
     },
     "execution_count": 40,
     "metadata": {},
     "output_type": "execute_result"
    }
   ],
   "source": [
    "#access raw data\n",
    "df.spnbmd.values"
   ]
  },
  {
   "cell_type": "markdown",
   "metadata": {},
   "source": [
    "# Exercise"
   ]
  },
  {
   "cell_type": "markdown",
   "metadata": {},
   "source": [
    "1. Find the average spnbmd for Black Male between with age 9-10 years old."
   ]
  },
  {
   "cell_type": "code",
   "execution_count": null,
   "metadata": {},
   "outputs": [],
   "source": [
    "def average_spnbmd(ethnic, sex, min_age, max_age):\n",
    "    pass\n",
    "\n",
    "# find it"
   ]
  },
  {
   "cell_type": "markdown",
   "metadata": {},
   "source": [
    "2. Find the standard deviation of spnbmd for Black Male with age 9-10 years old."
   ]
  },
  {
   "cell_type": "code",
   "execution_count": null,
   "metadata": {},
   "outputs": [],
   "source": [
    "def std_spnbmd(ethnic, sex, min_age, max_age):\n",
    "    pass"
   ]
  },
  {
   "cell_type": "code",
   "execution_count": null,
   "metadata": {},
   "outputs": [],
   "source": []
  }
 ],
 "metadata": {
  "kernelspec": {
   "display_name": "Python 3",
   "language": "python",
   "name": "python3"
  },
  "language_info": {
   "codemirror_mode": {
    "name": "ipython",
    "version": 3
   },
   "file_extension": ".py",
   "mimetype": "text/x-python",
   "name": "python",
   "nbconvert_exporter": "python",
   "pygments_lexer": "ipython3",
   "version": "3.7.0"
  },
  "toc": {
   "colors": {
    "hover_highlight": "#DAA520",
    "running_highlight": "#FF0000",
    "selected_highlight": "#FFD700"
   },
   "moveMenuLeft": true,
   "nav_menu": {
    "height": "30px",
    "width": "252px"
   },
   "navigate_menu": true,
   "number_sections": false,
   "sideBar": true,
   "threshold": 4,
   "toc_cell": false,
   "toc_section_display": "block",
   "toc_window_display": false
  }
 },
 "nbformat": 4,
 "nbformat_minor": 2
}
